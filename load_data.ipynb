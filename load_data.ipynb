{
 "cells": [
  {
   "cell_type": "code",
   "execution_count": 4,
   "metadata": {},
   "outputs": [],
   "source": [
    "import numpy as np\n",
    "from sklearn.model_selection import train_test_split\n",
    "from os import walk, getcwd\n",
    "import h5py"
   ]
  },
  {
   "cell_type": "code",
   "execution_count": 8,
   "metadata": {},
   "outputs": [],
   "source": [
    "mypath = \"data/\"\n",
    "txt_name_list = []\n",
    "for (dirpath, dirnames, filenames) in walk(mypath):\n",
    "    if filenames != '.DS_Store':       \n",
    "        txt_name_list.extend(filenames)\n",
    "        break"
   ]
  },
  {
   "cell_type": "code",
   "execution_count": 9,
   "metadata": {},
   "outputs": [
    {
     "data": {
      "text/plain": [
       "['full%2Fnumpy_bitmap%2Fairplane.npy',\n",
       " 'full%2Fnumpy_bitmap%2Fcarrot.npy',\n",
       " 'full%2Fnumpy_bitmap%2Fcup.npy',\n",
       " 'full%2Fnumpy_bitmap%2Fheadphones.npy',\n",
       " 'full%2Fnumpy_bitmap%2Flight bulb.npy',\n",
       " 'full%2Fnumpy_bitmap%2Fmotorbike.npy',\n",
       " 'full%2Fnumpy_bitmap%2Fsaxophone.npy',\n",
       " 'full%2Fnumpy_bitmap%2Ftelevision.npy',\n",
       " 'full%2Fnumpy_bitmap%2Fumbrella.npy',\n",
       " 'full%2Fnumpy_bitmap%2Fzigzag.npy']"
      ]
     },
     "execution_count": 9,
     "metadata": {},
     "output_type": "execute_result"
    }
   ],
   "source": [
    "txt_name_list"
   ]
  },
  {
   "cell_type": "code",
   "execution_count": 10,
   "metadata": {},
   "outputs": [],
   "source": [
    "x_train = []\n",
    "x_test = []\n",
    "y_train = []\n",
    "y_test = []\n",
    "xtotal = []\n",
    "ytotal = []\n",
    "slice_train = int(80000/len(txt_name_list))  ###Setting value to be 80000 for the final dataset\n",
    "i = 0\n",
    "seed = np.random.randint(1, 10e6)"
   ]
  },
  {
   "cell_type": "code",
   "execution_count": 14,
   "metadata": {},
   "outputs": [],
   "source": [
    "##Creates test/train split with quickdraw data\n",
    "for txt_name in txt_name_list:\n",
    "    txt_path = mypath + txt_name\n",
    "    x = np.load(txt_path)\n",
    "    x = x.astype('float32') / 255.    ##scale images\n",
    "    y = [i] * len(x)  \n",
    "    np.random.seed(seed)\n",
    "    np.random.shuffle(x)\n",
    "    np.random.seed(seed)\n",
    "    np.random.shuffle(y)\n",
    "    x = x[:slice_train]\n",
    "    y = y[:slice_train]\n",
    "    if i != 0: \n",
    "        xtotal = np.concatenate((x,xtotal), axis=0)\n",
    "        ytotal = np.concatenate((y,ytotal), axis=0)\n",
    "    else:\n",
    "        xtotal = x\n",
    "        ytotal = y\n",
    "    i += 1\n",
    "x_train, x_test, y_train, y_test = train_test_split(xtotal, ytotal, test_size=0.2, random_state=42)"
   ]
  },
  {
   "cell_type": "code",
   "execution_count": 13,
   "metadata": {},
   "outputs": [],
   "source": [
    "##Saves this out as hdf5 format\n",
    "data_to_write = x_test\n",
    "with h5py.File('x_test.h5', 'w') as hf:\n",
    "    hf.create_dataset(\"name-of-dataset\",  data=data_to_write)\n",
    "data_to_write = x_train\n",
    "with h5py.File('x_train.h5', 'w') as hf:\n",
    "    hf.create_dataset(\"name-of-dataset\",  data=data_to_write)\n",
    "data_to_write = y_test\n",
    "with h5py.File('y_test.h5', 'w') as hf:\n",
    "    hf.create_dataset(\"name-of-dataset\",  data=data_to_write)\n",
    "data_to_write = y_train\n",
    "with h5py.File('y_train.h5', 'w') as hf:\n",
    "    hf.create_dataset(\"name-of-dataset\",  data=data_to_write)"
   ]
  },
  {
   "cell_type": "code",
   "execution_count": null,
   "metadata": {},
   "outputs": [],
   "source": [
    "img = x_train[2].reshape(28,28)\n",
    "print(img)"
   ]
  }
 ],
 "metadata": {
  "kernelspec": {
   "display_name": "Python 3",
   "language": "python",
   "name": "python3"
  },
  "language_info": {
   "codemirror_mode": {
    "name": "ipython",
    "version": 3
   },
   "file_extension": ".py",
   "mimetype": "text/x-python",
   "name": "python",
   "nbconvert_exporter": "python",
   "pygments_lexer": "ipython3",
   "version": "3.5.2"
  }
 },
 "nbformat": 4,
 "nbformat_minor": 2
}
