{
  "nbformat": 4,
  "nbformat_minor": 0,
  "metadata": {
    "colab": {
      "name": "Keras MNIST.ipynb",
      "version": "0.3.2",
      "provenance": [],
      "collapsed_sections": [],
      "include_colab_link": true
    },
    "kernelspec": {
      "name": "python2",
      "display_name": "Python 2"
    },
    "accelerator": "GPU"
  },
  "cells": [
    {
      "cell_type": "markdown",
      "metadata": {
        "id": "view-in-github",
        "colab_type": "text"
      },
      "source": [
        "[View in Colaboratory](https://colab.research.google.com/github/krohak/load-quickdraw/blob/master/Keras_Quickdraw.ipynb)"
      ]
    },
    {
      "metadata": {
        "id": "PehTQIRQPOwx",
        "colab_type": "text"
      },
      "cell_type": "markdown",
      "source": [
        "# MNIST Dataset"
      ]
    },
    {
      "metadata": {
        "id": "VoTgEOFIf2Tb",
        "colab_type": "code",
        "colab": {}
      },
      "cell_type": "code",
      "source": [
        "'''Trains a simple convnet on the MNIST dataset.\n",
        "Gets to 99.25% test accuracy after 12 epochs\n",
        "(there is still a lot of margin for parameter tuning).\n",
        "16 seconds per epoch on a GRID K520 GPU.\n",
        "'''\n",
        "\n",
        "from __future__ import print_function\n",
        "import keras\n",
        "from keras.datasets import mnist\n",
        "from keras.models import Sequential\n",
        "from keras.layers import Dense, Dropout, Flatten\n",
        "from keras.layers import Conv2D, MaxPooling2D\n",
        "from keras import backend as K\n",
        "\n",
        "import numpy as np\n",
        "import matplotlib.pyplot as plt"
      ],
      "execution_count": 0,
      "outputs": []
    },
    {
      "metadata": {
        "id": "PzyhDJbUhsXZ",
        "colab_type": "code",
        "colab": {
          "base_uri": "https://localhost:8080/",
          "height": 365
        },
        "outputId": "7be1a2fe-3a33-4f42-b2ce-17c2e75f0ffa"
      },
      "cell_type": "code",
      "source": [
        "# the data, split between train and test sets\n",
        "(x_train, y_train), (x_test, y_test) = mnist.load_data()\n",
        "\n",
        "plt.subplot(221)\n",
        "plt.imshow(x_train[0].reshape([28,28]), cmap=plt.get_cmap('gray'))\n",
        "plt.subplot(222)\n",
        "plt.imshow(x_train[1].reshape([28,28]), cmap=plt.get_cmap('gray'))\n",
        "plt.subplot(223)\n",
        "plt.imshow(x_train[2].reshape([28,28]), cmap=plt.get_cmap('gray'))\n",
        "plt.subplot(224)\n",
        "plt.imshow(x_train[3].reshape([28,28]), cmap=plt.get_cmap('gray'))\n",
        "\n",
        "plt.show()\n",
        "\n",
        "print(y_train[:4])  # <---labels"
      ],
      "execution_count": 8,
      "outputs": [
        {
          "output_type": "display_data",
          "data": {
            "image/png": "[encoded data removed]",
            "text/plain": [
              "<matplotlib.figure.Figure at 0x7f4795b6c350>"
            ]
          },
          "metadata": {
            "tags": []
          }
        },
        {
          "output_type": "stream",
          "text": [
            "[5 0 4 1]\n"
          ],
          "name": "stdout"
        }
      ]
    },
    {
      "metadata": {
        "id": "wkver-qii_9F",
        "colab_type": "code",
        "colab": {
          "base_uri": "https://localhost:8080/",
          "height": 37
        },
        "outputId": "b968fafe-e2a1-4372-e3b8-c1006b97833b"
      },
      "cell_type": "code",
      "source": [
        "\n",
        "num_classes = 10\n",
        "# input image dimensions\n",
        "img_rows, img_cols = 28, 28"
      ],
      "execution_count": 3,
      "outputs": []
    },
    {
      "metadata": {
        "id": "CF6AKdpjgRHu",
        "colab_type": "code",
        "colab": {
          "base_uri": "https://localhost:8080/",
          "height": 68
        },
        "outputId": "be6e568f-4f7e-4e63-99ca-d8e7f0435bd9"
      },
      "cell_type": "code",
      "source": [
        "if K.image_data_format() == 'channels_first':\n",
        "    x_train = x_train.reshape(x_train.shape[0], 1, img_rows, img_cols)\n",
        "    x_test = x_test.reshape(x_test.shape[0], 1, img_rows, img_cols)\n",
        "    input_shape = (1, img_rows, img_cols)\n",
        "else:\n",
        "    x_train = x_train.reshape(x_train.shape[0], img_rows, img_cols, 1)\n",
        "    x_test = x_test.reshape(x_test.shape[0], img_rows, img_cols, 1)\n",
        "    input_shape = (img_rows, img_cols, 1)\n",
        "\n",
        "x_train = x_train.astype('float32')\n",
        "x_test = x_test.astype('float32')\n",
        "x_train /= 255\n",
        "x_test /= 255\n",
        "print('x_train shape:', x_train.shape)\n",
        "print(x_train.shape[0], 'train samples')\n",
        "print(x_test.shape[0], 'test samples')\n",
        "\n",
        "# convert class vectors to binary class matrices\n",
        "y_train = keras.utils.to_categorical(y_train, num_classes)\n",
        "y_test = keras.utils.to_categorical(y_test, num_classes)"
      ],
      "execution_count": 4,
      "outputs": [
        {
          "output_type": "stream",
          "text": [
            "x_train shape: (60000, 28, 28, 1)\n",
            "60000 train samples\n",
            "10000 test samples\n"
          ],
          "name": "stdout"
        }
      ]
    },
    {
      "metadata": {
        "id": "ouMN6FvogUe7",
        "colab_type": "code",
        "colab": {
          "base_uri": "https://localhost:8080/",
          "height": 37
        },
        "outputId": "2c46e433-b8a4-4ac8-eb46-c7e0c11f37d6"
      },
      "cell_type": "code",
      "source": [
        "model = Sequential()\n",
        "model.add(Conv2D(32, kernel_size=(3, 3),\n",
        "                 activation='relu',\n",
        "                 input_shape=input_shape))\n",
        "model.add(Conv2D(64, (3, 3), activation='relu'))\n",
        "model.add(MaxPooling2D(pool_size=(2, 2)))\n",
        "model.add(Dropout(0.25))\n",
        "model.add(Flatten())\n",
        "model.add(Dense(128, activation='relu'))\n",
        "model.add(Dropout(0.5))\n",
        "model.add(Dense(num_classes, activation='softmax'))\n",
        "\n",
        "model.compile(loss=keras.losses.categorical_crossentropy,\n",
        "              optimizer=keras.optimizers.Adadelta(),\n",
        "              metrics=['accuracy'])"
      ],
      "execution_count": 5,
      "outputs": []
    },
    {
      "metadata": {
        "id": "UKnQTjVJgj2A",
        "colab_type": "code",
        "colab": {
          "base_uri": "https://localhost:8080/",
          "height": 408
        },
        "outputId": "9ec85055-1a64-4b79-cb24-7bd2eaaa3a43"
      },
      "cell_type": "code",
      "source": [
        "model.summary()"
      ],
      "execution_count": 6,
      "outputs": [
        {
          "output_type": "stream",
          "text": [
            "_________________________________________________________________\n",
            "Layer (type)                 Output Shape              Param #   \n",
            "=================================================================\n",
            "conv2d_1 (Conv2D)            (None, 26, 26, 32)        320       \n",
            "_________________________________________________________________\n",
            "conv2d_2 (Conv2D)            (None, 24, 24, 64)        18496     \n",
            "_________________________________________________________________\n",
            "max_pooling2d_1 (MaxPooling2 (None, 12, 12, 64)        0         \n",
            "_________________________________________________________________\n",
            "dropout_1 (Dropout)          (None, 12, 12, 64)        0         \n",
            "_________________________________________________________________\n",
            "flatten_1 (Flatten)          (None, 9216)              0         \n",
            "_________________________________________________________________\n",
            "dense_1 (Dense)              (None, 128)               1179776   \n",
            "_________________________________________________________________\n",
            "dropout_2 (Dropout)          (None, 128)               0         \n",
            "_________________________________________________________________\n",
            "dense_2 (Dense)              (None, 10)                1290      \n",
            "=================================================================\n",
            "Total params: 1,199,882\n",
            "Trainable params: 1,199,882\n",
            "Non-trainable params: 0\n",
            "_________________________________________________________________\n"
          ],
          "name": "stdout"
        }
      ]
    },
    {
      "metadata": {
        "id": "PeoCII7cgq5E",
        "colab_type": "code",
        "colab": {
          "base_uri": "https://localhost:8080/",
          "height": 496
        },
        "outputId": "59747a28-5620-475c-d247-e2c81254aea1"
      },
      "cell_type": "code",
      "source": [
        "batch_size = 128\n",
        "epochs = 12\n",
        "\n",
        "model.fit(x_train, y_train,\n",
        "          batch_size=batch_size,\n",
        "          epochs=epochs,\n",
        "          verbose=1,\n",
        "          validation_data=(x_test, y_test))\n",
        "score = model.evaluate(x_test, y_test, verbose=0)\n",
        "print('Test loss:', score[0])\n",
        "print('Test accuracy:', score[1])"
      ],
      "execution_count": 7,
      "outputs": [
        {
          "output_type": "stream",
          "text": [
            "Train on 60000 samples, validate on 10000 samples\n",
            "Epoch 1/12\n",
            "60000/60000 [==============================] - 12s 200us/step - loss: 0.2685 - acc: 0.9174 - val_loss: 0.0660 - val_acc: 0.9783\n",
            "Epoch 2/12\n",
            "60000/60000 [==============================] - 10s 169us/step - loss: 0.0949 - acc: 0.9710 - val_loss: 0.0480 - val_acc: 0.9836\n",
            "Epoch 3/12\n",
            "29312/60000 [=============>................] - ETA: 4s - loss: 0.0686 - acc: 0.9796"
          ],
          "name": "stdout"
        },
        {
          "output_type": "stream",
          "text": [
            "60000/60000 [==============================] - 10s 167us/step - loss: 0.0702 - acc: 0.9793 - val_loss: 0.0371 - val_acc: 0.9872\n",
            "Epoch 4/12\n",
            "60000/60000 [==============================] - 10s 167us/step - loss: 0.0564 - acc: 0.9833 - val_loss: 0.0317 - val_acc: 0.9894\n",
            "Epoch 5/12\n",
            "60000/60000 [==============================] - 10s 168us/step - loss: 0.0506 - acc: 0.9853 - val_loss: 0.0322 - val_acc: 0.9899\n",
            "Epoch 6/12\n",
            "  896/60000 [..............................] - ETA: 9s - loss: 0.0332 - acc: 0.9922 "
          ],
          "name": "stdout"
        },
        {
          "output_type": "stream",
          "text": [
            "60000/60000 [==============================] - 10s 169us/step - loss: 0.0441 - acc: 0.9870 - val_loss: 0.0286 - val_acc: 0.9908\n",
            "Epoch 7/12\n",
            "60000/60000 [==============================] - 10s 168us/step - loss: 0.0410 - acc: 0.9877 - val_loss: 0.0256 - val_acc: 0.9917\n",
            "Epoch 8/12\n",
            "55040/60000 [==========================>...] - ETA: 0s - loss: 0.0365 - acc: 0.9891"
          ],
          "name": "stdout"
        },
        {
          "output_type": "stream",
          "text": [
            "60000/60000 [==============================] - 10s 167us/step - loss: 0.0370 - acc: 0.9889 - val_loss: 0.0270 - val_acc: 0.9912\n",
            "Epoch 9/12\n",
            "60000/60000 [==============================] - 10s 168us/step - loss: 0.0343 - acc: 0.9896 - val_loss: 0.0283 - val_acc: 0.9907\n",
            "Epoch 10/12\n",
            "60000/60000 [==============================] - 10s 168us/step - loss: 0.0320 - acc: 0.9903 - val_loss: 0.0300 - val_acc: 0.9912\n",
            "Epoch 11/12\n",
            " 4352/60000 [=>............................] - ETA: 8s - loss: 0.0315 - acc: 0.9906"
          ],
          "name": "stdout"
        },
        {
          "output_type": "stream",
          "text": [
            "60000/60000 [==============================] - 10s 167us/step - loss: 0.0287 - acc: 0.9913 - val_loss: 0.0259 - val_acc: 0.9921\n",
            "Epoch 12/12\n",
            "60000/60000 [==============================] - 10s 168us/step - loss: 0.0295 - acc: 0.9908 - val_loss: 0.0303 - val_acc: 0.9905\n",
            "Test loss: 0.03026454620273671\n",
            "Test accuracy: 0.9905\n"
          ],
          "name": "stdout"
        }
      ]
    },
    {
      "metadata": {
        "id": "c3_udhpzPJ8A",
        "colab_type": "text"
      },
      "cell_type": "markdown",
      "source": [
        "# Quickdraw Dataset"
      ]
    },
    {
      "metadata": {
        "id": "rI_RKEAgQLdS",
        "colab_type": "code",
        "colab": {
          "base_uri": "https://localhost:8080/",
          "height": 272
        },
        "outputId": "815cefba-e1c3-433e-b754-8dbdb5b39ccf"
      },
      "cell_type": "code",
      "source": [
        "! apt-get install git-lfs"
      ],
      "execution_count": 55,
      "outputs": [
        {
          "output_type": "stream",
          "text": [
            "Reading package lists... Done\n",
            "Building dependency tree       \n",
            "Reading state information... Done\n",
            "The following NEW packages will be installed:\n",
            "  git-lfs\n",
            "0 upgraded, 1 newly installed, 0 to remove and 7 not upgraded.\n",
            "Need to get 2,094 kB of archives.\n",
            "After this operation, 7,545 kB of additional disk space will be used.\n",
            "Get:1 http://archive.ubuntu.com/ubuntu artful/universe amd64 git-lfs amd64 2.2.1-1 [2,094 kB]\n",
            "Fetched 2,094 kB in 1s (1,521 kB/s)\n",
            "Selecting previously unselected package git-lfs.\n",
            "(Reading database ... 18396 files and directories currently installed.)\n",
            "Preparing to unpack .../git-lfs_2.2.1-1_amd64.deb ...\n",
            "Unpacking git-lfs (2.2.1-1) ...\n",
            "Setting up git-lfs (2.2.1-1) ...\n"
          ],
          "name": "stdout"
        }
      ]
    },
    {
      "metadata": {
        "id": "lJ92FUFcP6O0",
        "colab_type": "code",
        "colab": {
          "base_uri": "https://localhost:8080/",
          "height": 51
        },
        "outputId": "a4bbe3a5-db50-4ddf-fb80-89de8bc6106b"
      },
      "cell_type": "code",
      "source": [
        "! git lfs install"
      ],
      "execution_count": 56,
      "outputs": [
        {
          "output_type": "stream",
          "text": [
            "Updated git hooks.\r\n",
            "Git LFS initialized.\r\n"
          ],
          "name": "stdout"
        }
      ]
    },
    {
      "metadata": {
        "id": "dWGMFLblOfa1",
        "colab_type": "code",
        "colab": {
          "base_uri": "https://localhost:8080/",
          "height": 289
        },
        "outputId": "e8c547fd-6c30-4a4a-a170-679818dc12a1"
      },
      "cell_type": "code",
      "source": [
        "! git clone https://github.com/krohak/load-quickdraw.git"
      ],
      "execution_count": 65,
      "outputs": [
        {
          "output_type": "stream",
          "text": [
            "Cloning into 'load-quickdraw'...\n",
            "remote: Counting objects: 16, done.\u001b[K\n",
            "remote: Compressing objects: 100% (15/15), done.\u001b[K\n",
            "remote: Total 16 (delta 0), reused 16 (delta 0), pack-reused 0\u001b[K\n",
            "Unpacking objects: 100% (16/16), done.\n",
            "Downloading data/full%2Fnumpy_bitmap%2Fairplane.npy (119 MB)\n",
            "Downloading data/full%2Fnumpy_bitmap%2Fcarrot.npy (104 MB)\n",
            "Downloading data/full%2Fnumpy_bitmap%2Fcup.npy (102 MB)\n",
            "Downloading data/full%2Fnumpy_bitmap%2Fheadphones.npy (93 MB)\n",
            "Downloading data/full%2Fnumpy_bitmap%2Flight bulb.npy (95 MB)\n",
            "Downloading data/full%2Fnumpy_bitmap%2Fmotorbike.npy (67 MB)\n",
            "Downloading data/full%2Fnumpy_bitmap%2Fsaxophone.npy (93 MB)\n",
            "Downloading data/full%2Fnumpy_bitmap%2Ftelevision.npy (96 MB)\n",
            "Downloading data/full%2Fnumpy_bitmap%2Fumbrella.npy (97 MB)\n",
            "Downloading data/full%2Fnumpy_bitmap%2Fzigzag.npy (94 MB)\n",
            "Checking out files: 100% (13/13), done.\n"
          ],
          "name": "stdout"
        }
      ]
    },
    {
      "metadata": {
        "id": "e7uECBwwOiA_",
        "colab_type": "code",
        "colab": {
          "base_uri": "https://localhost:8080/",
          "height": 102
        },
        "outputId": "219c5801-14dd-4718-be7e-0d79bc47f081"
      },
      "cell_type": "code",
      "source": [
        "cd load-quickdraw/"
      ],
      "execution_count": 66,
      "outputs": [
        {
          "output_type": "stream",
          "text": [
            "full%2Fnumpy_bitmap%2Fairplane.npy    full%2Fnumpy_bitmap%2Fmotorbike.npy\r\n",
            "full%2Fnumpy_bitmap%2Fcarrot.npy      full%2Fnumpy_bitmap%2Fsaxophone.npy\r\n",
            "full%2Fnumpy_bitmap%2Fcup.npy\t      full%2Fnumpy_bitmap%2Ftelevision.npy\r\n",
            "full%2Fnumpy_bitmap%2Fheadphones.npy  full%2Fnumpy_bitmap%2Fumbrella.npy\r\n",
            "full%2Fnumpy_bitmap%2Flight bulb.npy  full%2Fnumpy_bitmap%2Fzigzag.npy\r\n"
          ],
          "name": "stdout"
        }
      ]
    },
    {
      "metadata": {
        "id": "o2GMqYq1PFCz",
        "colab_type": "code",
        "colab": {
          "base_uri": "https://localhost:8080/",
          "height": 34
        },
        "outputId": "fb88fb33-b549-44fe-da7c-a2343e2583a4"
      },
      "cell_type": "code",
      "source": [
        "ls"
      ],
      "execution_count": 71,
      "outputs": [
        {
          "output_type": "stream",
          "text": [
            "\u001b[0m\u001b[01;34mdata\u001b[0m/  load_data.ipynb  load_data.py\r\n"
          ],
          "name": "stdout"
        }
      ]
    },
    {
      "metadata": {
        "id": "K2Bv6LwLSovi",
        "colab_type": "code",
        "colab": {}
      },
      "cell_type": "code",
      "source": [
        "# coding: utf-8\n",
        "\n",
        "# In[4]:\n",
        "\n",
        "\n",
        "import numpy as np\n",
        "from sklearn.model_selection import train_test_split\n",
        "from os import walk, getcwd\n",
        "import h5py\n",
        "\n",
        "\n",
        "# In[8]:\n",
        "\n",
        "\n",
        "mypath = \"data/\"\n",
        "txt_name_list = []\n",
        "for (dirpath, dirnames, filenames) in walk(mypath):\n",
        "    if filenames != '.DS_Store':       \n",
        "        txt_name_list.extend(filenames)\n",
        "        break\n",
        "\n",
        "\n",
        "# In[9]:\n",
        "\n",
        "\n",
        "txt_name_list\n",
        "\n",
        "\n",
        "# In[10]:\n",
        "\n",
        "\n",
        "x_train = []\n",
        "x_test = []\n",
        "y_train = []\n",
        "y_test = []\n",
        "xtotal = []\n",
        "ytotal = []\n",
        "slice_train = int(80000/len(txt_name_list))  ###Setting value to be 80000 for the final dataset\n",
        "i = 0\n",
        "seed = np.random.randint(1, 10e6)\n",
        "\n",
        "\n",
        "# In[14]:\n",
        "\n",
        "\n",
        "##Creates test/train split with quickdraw data\n",
        "for txt_name in txt_name_list:\n",
        "    txt_path = mypath + txt_name\n",
        "    x = np.load(txt_path)\n",
        "    print(txt_path)\n",
        "    x = x.astype('float32') / 255.    ##scale images\n",
        "    y = [i] * len(x)  \n",
        "    np.random.seed(seed)\n",
        "    np.random.shuffle(x)\n",
        "    np.random.seed(seed)\n",
        "    np.random.shuffle(y)\n",
        "    x = x[:slice_train]\n",
        "    y = y[:slice_train]\n",
        "    if i != 0: \n",
        "        xtotal = np.concatenate((x,xtotal), axis=0)\n",
        "        ytotal = np.concatenate((y,ytotal), axis=0)\n",
        "    else:\n",
        "        xtotal = x\n",
        "        ytotal = y\n",
        "    i += 1\n",
        "x_train, x_test, y_train, y_test = train_test_split(xtotal, ytotal, test_size=0.2, random_state=42)\n",
        "\n",
        "\n",
        "# In[13]:\n",
        "\n",
        "\n",
        "##Saves this out as hdf5 format\n",
        "data_to_write = x_test\n",
        "with h5py.File('x_test.h5', 'w') as hf:\n",
        "    hf.create_dataset(\"name-of-dataset\",  data=data_to_write)\n",
        "data_to_write = x_train\n",
        "with h5py.File('x_train.h5', 'w') as hf:\n",
        "    hf.create_dataset(\"name-of-dataset\",  data=data_to_write)\n",
        "data_to_write = y_test\n",
        "with h5py.File('y_test.h5', 'w') as hf:\n",
        "    hf.create_dataset(\"name-of-dataset\",  data=data_to_write)\n",
        "data_to_write = y_train\n",
        "with h5py.File('y_train.h5', 'w') as hf:\n",
        "    hf.create_dataset(\"name-of-dataset\",  data=data_to_write)"
      ],
      "execution_count": 0,
      "outputs": []
    },
    {
      "metadata": {
        "id": "T2WPjcBvUJCe",
        "colab_type": "code",
        "colab": {
          "base_uri": "https://localhost:8080/",
          "height": 51
        },
        "outputId": "6ff8d54b-6b0f-4ed7-a2ed-67a0142947ce"
      },
      "cell_type": "code",
      "source": [
        "ls"
      ],
      "execution_count": 9,
      "outputs": [
        {
          "output_type": "stream",
          "text": [
            "\u001b[0m\u001b[01;34mdata\u001b[0m/            load_data.py  x_train.h5  y_train.h5\r\n",
            "load_data.ipynb  x_test.h5     y_test.h5\r\n"
          ],
          "name": "stdout"
        }
      ]
    },
    {
      "metadata": {
        "id": "7tuzbV7tUKLG",
        "colab_type": "code",
        "colab": {
          "base_uri": "https://localhost:8080/",
          "height": 34
        },
        "outputId": "65d20527-a894-449c-e390-1dc757b4de5e"
      },
      "cell_type": "code",
      "source": [
        "y_test.max()"
      ],
      "execution_count": 12,
      "outputs": [
        {
          "output_type": "execute_result",
          "data": {
            "text/plain": [
              "9"
            ]
          },
          "metadata": {
            "tags": []
          },
          "execution_count": 12
        }
      ]
    },
    {
      "metadata": {
        "id": "BssmAnMiUbqI",
        "colab_type": "code",
        "colab": {
          "base_uri": "https://localhost:8080/",
          "height": 34
        },
        "outputId": "5f38f818-2b56-4c51-efce-8c29047bf4de"
      },
      "cell_type": "code",
      "source": [
        "x_train[0].shape"
      ],
      "execution_count": 13,
      "outputs": [
        {
          "output_type": "execute_result",
          "data": {
            "text/plain": [
              "(784,)"
            ]
          },
          "metadata": {
            "tags": []
          },
          "execution_count": 13
        }
      ]
    },
    {
      "metadata": {
        "id": "IToCw2-aUgPu",
        "colab_type": "code",
        "colab": {
          "base_uri": "https://localhost:8080/",
          "height": 364
        },
        "outputId": "9f7bb846-cac5-4960-b3c8-80802c5227b6"
      },
      "cell_type": "code",
      "source": [
        "import matplotlib.pyplot as plt\n",
        "import numpy as np\n",
        "\n",
        "img = x_train[0].reshape([28,28])\n",
        "plt.imshow(img)"
      ],
      "execution_count": 14,
      "outputs": [
        {
          "output_type": "execute_result",
          "data": {
            "text/plain": [
              "<matplotlib.image.AxesImage at 0x7fb4b37fee90>"
            ]
          },
          "metadata": {
            "tags": []
          },
          "execution_count": 14
        },
        {
          "output_type": "display_data",
          "data": {
            "image/png": "[encoded data removed]",
            "text/plain": [
              "<matplotlib.figure.Figure at 0x7fb4b4b24510>"
            ]
          },
          "metadata": {
            "tags": []
          }
        }
      ]
    },
    {
      "metadata": {
        "id": "zhMjqaQLUrBa",
        "colab_type": "code",
        "colab": {
          "base_uri": "https://localhost:8080/",
          "height": 34
        },
        "outputId": "5eb0db95-c848-4e86-8fcd-83f2a2bfd0a8"
      },
      "cell_type": "code",
      "source": [
        "y_train[0]"
      ],
      "execution_count": 15,
      "outputs": [
        {
          "output_type": "execute_result",
          "data": {
            "text/plain": [
              "9"
            ]
          },
          "metadata": {
            "tags": []
          },
          "execution_count": 15
        }
      ]
    },
    {
      "metadata": {
        "id": "F0BFJeB9U_SO",
        "colab_type": "code",
        "colab": {}
      },
      "cell_type": "code",
      "source": [
        "num_classes = 10\n",
        "# input image dimensions\n",
        "img_rows, img_cols = 28, 28"
      ],
      "execution_count": 0,
      "outputs": []
    },
    {
      "metadata": {
        "id": "JMSX3m02V_vZ",
        "colab_type": "code",
        "colab": {}
      },
      "cell_type": "code",
      "source": [
        "x_train = x_train.reshape(x_train.shape[0], img_rows, img_cols, 1)\n",
        "x_test = x_test.reshape(x_test.shape[0], img_rows, img_cols, 1)\n",
        "input_shape = (img_rows, img_cols, 1)"
      ],
      "execution_count": 0,
      "outputs": []
    },
    {
      "metadata": {
        "id": "jLyIyeabWBLF",
        "colab_type": "code",
        "colab": {
          "base_uri": "https://localhost:8080/",
          "height": 34
        },
        "outputId": "a2b023f2-3654-4cf8-ddcf-438ea6531344"
      },
      "cell_type": "code",
      "source": [
        "x_train.shape"
      ],
      "execution_count": 18,
      "outputs": [
        {
          "output_type": "execute_result",
          "data": {
            "text/plain": [
              "(64000, 28, 28, 1)"
            ]
          },
          "metadata": {
            "tags": []
          },
          "execution_count": 18
        }
      ]
    },
    {
      "metadata": {
        "id": "haWjVLV7XHM_",
        "colab_type": "code",
        "colab": {}
      },
      "cell_type": "code",
      "source": [
        "# convert class vectors to binary class matrices\n",
        "y_train = keras.utils.to_categorical(y_train, num_classes)\n",
        "y_test = keras.utils.to_categorical(y_test, num_classes)"
      ],
      "execution_count": 0,
      "outputs": []
    },
    {
      "metadata": {
        "id": "94EHAhQRVU9c",
        "colab_type": "code",
        "colab": {}
      },
      "cell_type": "code",
      "source": [
        "model = Sequential()\n",
        "model.add(Conv2D(32, kernel_size=(3, 3),\n",
        "                 activation='relu',\n",
        "                 input_shape=input_shape))\n",
        "model.add(Conv2D(64, (3, 3), activation='relu'))\n",
        "model.add(MaxPooling2D(pool_size=(2, 2)))\n",
        "model.add(Dropout(0.25))\n",
        "model.add(Flatten())\n",
        "model.add(Dense(128, activation='relu'))\n",
        "model.add(Dropout(0.5))\n",
        "model.add(Dense(num_classes, activation='softmax'))\n",
        "\n",
        "model.compile(loss=keras.losses.categorical_crossentropy,\n",
        "              optimizer=keras.optimizers.Adadelta(),\n",
        "              metrics=['accuracy'])"
      ],
      "execution_count": 0,
      "outputs": []
    },
    {
      "metadata": {
        "id": "y-T6L5tXVlmq",
        "colab_type": "code",
        "colab": {
          "base_uri": "https://localhost:8080/",
          "height": 408
        },
        "outputId": "13dbe2cc-488c-488c-9e33-d2b4cf53e333"
      },
      "cell_type": "code",
      "source": [
        "model.summary()"
      ],
      "execution_count": 21,
      "outputs": [
        {
          "output_type": "stream",
          "text": [
            "_________________________________________________________________\n",
            "Layer (type)                 Output Shape              Param #   \n",
            "=================================================================\n",
            "conv2d_1 (Conv2D)            (None, 26, 26, 32)        320       \n",
            "_________________________________________________________________\n",
            "conv2d_2 (Conv2D)            (None, 24, 24, 64)        18496     \n",
            "_________________________________________________________________\n",
            "max_pooling2d_1 (MaxPooling2 (None, 12, 12, 64)        0         \n",
            "_________________________________________________________________\n",
            "dropout_1 (Dropout)          (None, 12, 12, 64)        0         \n",
            "_________________________________________________________________\n",
            "flatten_1 (Flatten)          (None, 9216)              0         \n",
            "_________________________________________________________________\n",
            "dense_1 (Dense)              (None, 128)               1179776   \n",
            "_________________________________________________________________\n",
            "dropout_2 (Dropout)          (None, 128)               0         \n",
            "_________________________________________________________________\n",
            "dense_2 (Dense)              (None, 10)                1290      \n",
            "=================================================================\n",
            "Total params: 1,199,882\n",
            "Trainable params: 1,199,882\n",
            "Non-trainable params: 0\n",
            "_________________________________________________________________\n"
          ],
          "name": "stdout"
        }
      ]
    },
    {
      "metadata": {
        "id": "mW5ZG4g8Wsxk",
        "colab_type": "code",
        "colab": {
          "base_uri": "https://localhost:8080/",
          "height": 768
        },
        "outputId": "48868cf9-a692-4300-c393-d66e8ab20e63"
      },
      "cell_type": "code",
      "source": [
        "batch_size = 128\n",
        "epochs = 20\n",
        "\n",
        "model.fit(x_train, y_train,\n",
        "          batch_size=batch_size,\n",
        "          epochs=epochs,\n",
        "          verbose=1,\n",
        "          validation_data=(x_test, y_test))\n",
        "score = model.evaluate(x_test, y_test, verbose=0)\n",
        "print('Test loss:', score[0])\n",
        "print('Test accuracy:', score[1])"
      ],
      "execution_count": 23,
      "outputs": [
        {
          "output_type": "stream",
          "text": [
            "Train on 64000 samples, validate on 16000 samples\n",
            "Epoch 1/20\n",
            "64000/64000 [==============================] - 11s 166us/step - loss: 0.1598 - acc: 0.9489 - val_loss: 0.2147 - val_acc: 0.9407\n",
            "Epoch 2/20\n",
            "64000/64000 [==============================] - 11s 168us/step - loss: 0.1549 - acc: 0.9496 - val_loss: 0.1995 - val_acc: 0.9412\n",
            "Epoch 3/20\n",
            "25088/64000 [==========>...................] - ETA: 6s - loss: 0.1465 - acc: 0.9529"
          ],
          "name": "stdout"
        },
        {
          "output_type": "stream",
          "text": [
            "64000/64000 [==============================] - 11s 168us/step - loss: 0.1508 - acc: 0.9523 - val_loss: 0.1956 - val_acc: 0.9385\n",
            "Epoch 4/20\n",
            "64000/64000 [==============================] - 11s 167us/step - loss: 0.1489 - acc: 0.9526 - val_loss: 0.2430 - val_acc: 0.9402\n",
            "Epoch 5/20\n",
            "56832/64000 [=========================>....] - ETA: 1s - loss: 0.1465 - acc: 0.9531"
          ],
          "name": "stdout"
        },
        {
          "output_type": "stream",
          "text": [
            "64000/64000 [==============================] - 11s 167us/step - loss: 0.1466 - acc: 0.9531 - val_loss: 0.2194 - val_acc: 0.9399\n",
            "Epoch 6/20\n",
            "64000/64000 [==============================] - 11s 167us/step - loss: 0.1409 - acc: 0.9554 - val_loss: 0.2200 - val_acc: 0.9412\n",
            "Epoch 7/20\n",
            "64000/64000 [==============================] - 11s 167us/step - loss: 0.1422 - acc: 0.9543 - val_loss: 0.1984 - val_acc: 0.9414\n"
          ],
          "name": "stdout"
        },
        {
          "output_type": "stream",
          "text": [
            "Epoch 8/20\n",
            "64000/64000 [==============================] - 11s 167us/step - loss: 0.1416 - acc: 0.9550 - val_loss: 0.2219 - val_acc: 0.9407\n",
            "Epoch 9/20\n",
            "64000/64000 [==============================] - 11s 167us/step - loss: 0.1380 - acc: 0.9548 - val_loss: 0.2129 - val_acc: 0.9405\n",
            "Epoch 10/20\n",
            "45824/64000 [====================>.........] - ETA: 2s - loss: 0.1366 - acc: 0.9557"
          ],
          "name": "stdout"
        },
        {
          "output_type": "stream",
          "text": [
            "64000/64000 [==============================] - 11s 166us/step - loss: 0.1371 - acc: 0.9551 - val_loss: 0.1943 - val_acc: 0.9419\n",
            "Epoch 11/20\n",
            "64000/64000 [==============================] - 11s 168us/step - loss: 0.1378 - acc: 0.9558 - val_loss: 0.1929 - val_acc: 0.9413\n",
            "Epoch 12/20\n",
            "61184/64000 [===========================>..] - ETA: 0s - loss: 0.1327 - acc: 0.9577"
          ],
          "name": "stdout"
        },
        {
          "output_type": "stream",
          "text": [
            "64000/64000 [==============================] - 11s 167us/step - loss: 0.1336 - acc: 0.9576 - val_loss: 0.1996 - val_acc: 0.9388\n",
            "Epoch 13/20\n",
            "64000/64000 [==============================] - 11s 167us/step - loss: 0.1345 - acc: 0.9572 - val_loss: 0.2056 - val_acc: 0.9423\n",
            "Epoch 14/20\n",
            "64000/64000 [==============================] - 11s 167us/step - loss: 0.1301 - acc: 0.9586 - val_loss: 0.2332 - val_acc: 0.9429\n"
          ],
          "name": "stdout"
        },
        {
          "output_type": "stream",
          "text": [
            "Epoch 15/20\n",
            "64000/64000 [==============================] - 11s 168us/step - loss: 0.1314 - acc: 0.9575 - val_loss: 0.2445 - val_acc: 0.9426\n",
            "Epoch 16/20\n",
            "64000/64000 [==============================] - 11s 167us/step - loss: 0.1318 - acc: 0.9578 - val_loss: 0.2046 - val_acc: 0.9424\n",
            "Epoch 17/20\n",
            "45056/64000 [====================>.........] - ETA: 2s - loss: 0.1300 - acc: 0.9581"
          ],
          "name": "stdout"
        },
        {
          "output_type": "stream",
          "text": [
            "64000/64000 [==============================] - 11s 167us/step - loss: 0.1315 - acc: 0.9577 - val_loss: 0.2023 - val_acc: 0.9422\n",
            "Epoch 18/20\n",
            "64000/64000 [==============================] - 11s 166us/step - loss: 0.1299 - acc: 0.9583 - val_loss: 0.2041 - val_acc: 0.9394\n",
            "Epoch 19/20\n",
            "61184/64000 [===========================>..] - ETA: 0s - loss: 0.1293 - acc: 0.9582"
          ],
          "name": "stdout"
        },
        {
          "output_type": "stream",
          "text": [
            "64000/64000 [==============================] - 11s 168us/step - loss: 0.1291 - acc: 0.9583 - val_loss: 0.2151 - val_acc: 0.9421\n",
            "Epoch 20/20\n",
            "64000/64000 [==============================] - 11s 167us/step - loss: 0.1299 - acc: 0.9593 - val_loss: 0.2350 - val_acc: 0.9424\n",
            "Test loss: 0.23503756526055805\n",
            "Test accuracy: 0.942375\n"
          ],
          "name": "stdout"
        }
      ]
    }
  ]
}